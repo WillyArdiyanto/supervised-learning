{
 "cells": [
  {
   "cell_type": "markdown",
   "id": "dc1b5600",
   "metadata": {},
   "source": [
    "# Print"
   ]
  },
  {
   "cell_type": "code",
   "execution_count": 1,
   "id": "3f671dc2",
   "metadata": {},
   "outputs": [
    {
     "name": "stdout",
     "output_type": "stream",
     "text": [
      "Hello world!\n"
     ]
    }
   ],
   "source": [
    "print('Hello world!')"
   ]
  },
  {
   "cell_type": "code",
   "execution_count": 2,
   "id": "56063a0c",
   "metadata": {},
   "outputs": [
    {
     "name": "stdout",
     "output_type": "stream",
     "text": [
      "Halo dunia!\n"
     ]
    }
   ],
   "source": [
    "print(\"Halo dunia!\")"
   ]
  },
  {
   "cell_type": "code",
   "execution_count": 3,
   "id": "263dcfb5",
   "metadata": {},
   "outputs": [
    {
     "name": "stdout",
     "output_type": "stream",
     "text": [
      "This is docstring!\n"
     ]
    }
   ],
   "source": [
    "print('''This is docstring!''')"
   ]
  },
  {
   "cell_type": "markdown",
   "id": "8e9831cf",
   "metadata": {},
   "source": [
    "# Variable\n"
   ]
  },
  {
   "cell_type": "code",
   "execution_count": 4,
   "id": "ee6a1ad7",
   "metadata": {},
   "outputs": [],
   "source": [
    "a = 1"
   ]
  },
  {
   "cell_type": "code",
   "execution_count": 5,
   "id": "4f7af09d",
   "metadata": {},
   "outputs": [
    {
     "data": {
      "text/plain": [
       "1"
      ]
     },
     "execution_count": 5,
     "metadata": {},
     "output_type": "execute_result"
    }
   ],
   "source": [
    "a"
   ]
  },
  {
   "cell_type": "code",
   "execution_count": 6,
   "id": "86e7df9a",
   "metadata": {},
   "outputs": [],
   "source": [
    "a , b = 2 , 4"
   ]
  },
  {
   "cell_type": "code",
   "execution_count": 7,
   "id": "78915956",
   "metadata": {},
   "outputs": [
    {
     "data": {
      "text/plain": [
       "4"
      ]
     },
     "execution_count": 7,
     "metadata": {},
     "output_type": "execute_result"
    }
   ],
   "source": [
    "b"
   ]
  },
  {
   "cell_type": "code",
   "execution_count": 8,
   "id": "896ce0db",
   "metadata": {},
   "outputs": [
    {
     "data": {
      "text/plain": [
       "(2, 4)"
      ]
     },
     "execution_count": 8,
     "metadata": {},
     "output_type": "execute_result"
    }
   ],
   "source": [
    "a , b"
   ]
  },
  {
   "cell_type": "code",
   "execution_count": 9,
   "id": "68e59ab0",
   "metadata": {},
   "outputs": [],
   "source": [
    "a,b = b,a"
   ]
  },
  {
   "cell_type": "code",
   "execution_count": 10,
   "id": "a378b2ec",
   "metadata": {},
   "outputs": [
    {
     "data": {
      "text/plain": [
       "(4, 2)"
      ]
     },
     "execution_count": 10,
     "metadata": {},
     "output_type": "execute_result"
    }
   ],
   "source": [
    "a,b"
   ]
  },
  {
   "cell_type": "markdown",
   "id": "3ef57e52",
   "metadata": {},
   "source": [
    "# List"
   ]
  },
  {
   "cell_type": "code",
   "execution_count": 11,
   "id": "544f0a69",
   "metadata": {},
   "outputs": [],
   "source": [
    "my_list = [1, 2, 3, 4, \"Yorushiku!\", 5, 6, 7, 8, \"Cintaiku!\"]"
   ]
  },
  {
   "cell_type": "code",
   "execution_count": 12,
   "id": "ca345cf5",
   "metadata": {},
   "outputs": [
    {
     "data": {
      "text/plain": [
       "[1, 2, 3, 4, 'Yorushiku!', 5, 6, 7, 8, 'Cintaiku!']"
      ]
     },
     "execution_count": 12,
     "metadata": {},
     "output_type": "execute_result"
    }
   ],
   "source": [
    "my_list"
   ]
  },
  {
   "cell_type": "code",
   "execution_count": 13,
   "id": "bf64c39f",
   "metadata": {},
   "outputs": [
    {
     "data": {
      "text/plain": [
       "1"
      ]
     },
     "execution_count": 13,
     "metadata": {},
     "output_type": "execute_result"
    }
   ],
   "source": [
    "my_list[0]"
   ]
  },
  {
   "cell_type": "code",
   "execution_count": 14,
   "id": "b45e0ff2",
   "metadata": {},
   "outputs": [
    {
     "data": {
      "text/plain": [
       "'Cintaiku!'"
      ]
     },
     "execution_count": 14,
     "metadata": {},
     "output_type": "execute_result"
    }
   ],
   "source": [
    "my_list[-1]"
   ]
  },
  {
   "cell_type": "code",
   "execution_count": 15,
   "id": "5a854bb7",
   "metadata": {},
   "outputs": [],
   "source": [
    "my_list.append(\"Karena ku cinta kamu!\")"
   ]
  },
  {
   "cell_type": "code",
   "execution_count": 16,
   "id": "d9721a6e",
   "metadata": {},
   "outputs": [
    {
     "data": {
      "text/plain": [
       "[1, 2, 3, 4, 'Yorushiku!', 5, 6, 7, 8, 'Cintaiku!', 'Karena ku cinta kamu!']"
      ]
     },
     "execution_count": 16,
     "metadata": {},
     "output_type": "execute_result"
    }
   ],
   "source": [
    "my_list"
   ]
  },
  {
   "cell_type": "code",
   "execution_count": 17,
   "id": "f9b39b46",
   "metadata": {},
   "outputs": [
    {
     "data": {
      "text/plain": [
       "11"
      ]
     },
     "execution_count": 17,
     "metadata": {},
     "output_type": "execute_result"
    }
   ],
   "source": [
    "len(my_list)"
   ]
  },
  {
   "cell_type": "code",
   "execution_count": 18,
   "id": "062674a4",
   "metadata": {},
   "outputs": [],
   "source": [
    "my_list = []"
   ]
  },
  {
   "cell_type": "code",
   "execution_count": 20,
   "id": "4267d51c",
   "metadata": {},
   "outputs": [],
   "source": [
    "my_list.append(1)"
   ]
  },
  {
   "cell_type": "code",
   "execution_count": 22,
   "id": "5205f65e",
   "metadata": {},
   "outputs": [],
   "source": [
    "my_list.append(2)"
   ]
  },
  {
   "cell_type": "markdown",
   "id": "9d330ddd",
   "metadata": {},
   "source": [
    "# Slicing "
   ]
  },
  {
   "cell_type": "markdown",
   "id": "d1a4aacc",
   "metadata": {},
   "source": [
    "`inclusive` : `exclusive`:`step`"
   ]
  },
  {
   "cell_type": "code",
   "execution_count": 23,
   "id": "61ccba9a",
   "metadata": {},
   "outputs": [],
   "source": [
    "a = [0, 1, 2, 3, 4, 5, 6]"
   ]
  },
  {
   "cell_type": "code",
   "execution_count": 24,
   "id": "73a6931d",
   "metadata": {},
   "outputs": [
    {
     "data": {
      "text/plain": [
       "[0, 1]"
      ]
     },
     "execution_count": 24,
     "metadata": {},
     "output_type": "execute_result"
    }
   ],
   "source": [
    "a[0:2]"
   ]
  },
  {
   "cell_type": "code",
   "execution_count": 25,
   "id": "54727426",
   "metadata": {},
   "outputs": [
    {
     "data": {
      "text/plain": [
       "[0, 1, 2, 3, 4]"
      ]
     },
     "execution_count": 25,
     "metadata": {},
     "output_type": "execute_result"
    }
   ],
   "source": [
    "a[0:5]"
   ]
  },
  {
   "cell_type": "code",
   "execution_count": 26,
   "id": "746bb1e7",
   "metadata": {},
   "outputs": [
    {
     "data": {
      "text/plain": [
       "[3, 4, 5]"
      ]
     },
     "execution_count": 26,
     "metadata": {},
     "output_type": "execute_result"
    }
   ],
   "source": [
    "a[3:-1]"
   ]
  },
  {
   "cell_type": "code",
   "execution_count": 27,
   "id": "64fedcc0",
   "metadata": {},
   "outputs": [
    {
     "data": {
      "text/plain": [
       "[0, 1, 2, 3, 4]"
      ]
     },
     "execution_count": 27,
     "metadata": {},
     "output_type": "execute_result"
    }
   ],
   "source": [
    "a[:5]"
   ]
  },
  {
   "cell_type": "code",
   "execution_count": 28,
   "id": "35014a7d",
   "metadata": {},
   "outputs": [
    {
     "data": {
      "text/plain": [
       "[2, 3, 4, 5, 6]"
      ]
     },
     "execution_count": 28,
     "metadata": {},
     "output_type": "execute_result"
    }
   ],
   "source": [
    "a[2:]"
   ]
  },
  {
   "cell_type": "code",
   "execution_count": 29,
   "id": "160ad819",
   "metadata": {},
   "outputs": [
    {
     "data": {
      "text/plain": [
       "[1, 3, 5]"
      ]
     },
     "execution_count": 29,
     "metadata": {},
     "output_type": "execute_result"
    }
   ],
   "source": [
    "a[1::2]"
   ]
  },
  {
   "cell_type": "code",
   "execution_count": 30,
   "id": "3a1ca5ef",
   "metadata": {},
   "outputs": [
    {
     "data": {
      "text/plain": [
       "[1, 3]"
      ]
     },
     "execution_count": 30,
     "metadata": {},
     "output_type": "execute_result"
    }
   ],
   "source": [
    "a[1:5:2]"
   ]
  },
  {
   "cell_type": "code",
   "execution_count": 31,
   "id": "3881f00f",
   "metadata": {},
   "outputs": [
    {
     "data": {
      "text/plain": [
       "[6, 5, 4, 3, 2, 1, 0]"
      ]
     },
     "execution_count": 31,
     "metadata": {},
     "output_type": "execute_result"
    }
   ],
   "source": [
    "a[::-1]"
   ]
  },
  {
   "cell_type": "markdown",
   "id": "b58b6179",
   "metadata": {},
   "source": [
    "# Join & Split\n"
   ]
  },
  {
   "cell_type": "code",
   "execution_count": 32,
   "id": "55780362",
   "metadata": {},
   "outputs": [],
   "source": [
    "a = [\"cat\", \"dog\", \"fish\"] "
   ]
  },
  {
   "cell_type": "code",
   "execution_count": 33,
   "id": "d5908e36",
   "metadata": {},
   "outputs": [
    {
     "data": {
      "text/plain": [
       "'cat dog fish'"
      ]
     },
     "execution_count": 33,
     "metadata": {},
     "output_type": "execute_result"
    }
   ],
   "source": [
    "\" \".join(a)"
   ]
  },
  {
   "cell_type": "code",
   "execution_count": 34,
   "id": "fcff3ab1",
   "metadata": {},
   "outputs": [
    {
     "data": {
      "text/plain": [
       "'cat, dog, fish'"
      ]
     },
     "execution_count": 34,
     "metadata": {},
     "output_type": "execute_result"
    }
   ],
   "source": [
    "\", \".join(a)"
   ]
  },
  {
   "cell_type": "code",
   "execution_count": 35,
   "id": "b9cf6549",
   "metadata": {},
   "outputs": [],
   "source": [
    "a = \"kelas ini tentang intro python\""
   ]
  },
  {
   "cell_type": "code",
   "execution_count": 36,
   "id": "a02c335b",
   "metadata": {},
   "outputs": [
    {
     "data": {
      "text/plain": [
       "['kelas', 'ini', 'tentang', 'intro', 'python']"
      ]
     },
     "execution_count": 36,
     "metadata": {},
     "output_type": "execute_result"
    }
   ],
   "source": [
    "a.split()"
   ]
  },
  {
   "cell_type": "code",
   "execution_count": 37,
   "id": "d1bb57a4",
   "metadata": {},
   "outputs": [],
   "source": [
    "a = \"Hari ini, matahari bersinar terang\""
   ]
  },
  {
   "cell_type": "code",
   "execution_count": 38,
   "id": "559881ed",
   "metadata": {},
   "outputs": [
    {
     "data": {
      "text/plain": [
       "['Hari ini', 'matahari bersinar terang']"
      ]
     },
     "execution_count": 38,
     "metadata": {},
     "output_type": "execute_result"
    }
   ],
   "source": [
    "a.split(\", \")"
   ]
  },
  {
   "cell_type": "markdown",
   "id": "4783192a",
   "metadata": {},
   "source": [
    "#  Dictionary"
   ]
  },
  {
   "cell_type": "markdown",
   "id": "c380840e",
   "metadata": {},
   "source": [
    " `key`:`value`"
   ]
  },
  {
   "cell_type": "code",
   "execution_count": 39,
   "id": "4769acc7",
   "metadata": {},
   "outputs": [],
   "source": [
    "a = {\n",
    "    \"Marc\": 93,\n",
    "    \"Bottas\": 77,\n",
    "    \"Brad\": 33\n",
    "}"
   ]
  },
  {
   "cell_type": "code",
   "execution_count": 40,
   "id": "878cebda",
   "metadata": {},
   "outputs": [
    {
     "data": {
      "text/plain": [
       "{'Marc': 93, 'Bottas': 77, 'Brad': 33}"
      ]
     },
     "execution_count": 40,
     "metadata": {},
     "output_type": "execute_result"
    }
   ],
   "source": [
    "a\n"
   ]
  },
  {
   "cell_type": "code",
   "execution_count": 41,
   "id": "abfc1bd3",
   "metadata": {},
   "outputs": [
    {
     "data": {
      "text/plain": [
       "93"
      ]
     },
     "execution_count": 41,
     "metadata": {},
     "output_type": "execute_result"
    }
   ],
   "source": [
    "a[\"Marc\"]"
   ]
  },
  {
   "cell_type": "code",
   "execution_count": 45,
   "id": "7163e29d",
   "metadata": {},
   "outputs": [],
   "source": [
    "a[\"Hamilton\"]= 44"
   ]
  },
  {
   "cell_type": "code",
   "execution_count": 46,
   "id": "1cab7d26",
   "metadata": {},
   "outputs": [
    {
     "data": {
      "text/plain": [
       "{'Marc': 93, 'Bottas': 77, 'Brad': 33, 'Hamilton': 44}"
      ]
     },
     "execution_count": 46,
     "metadata": {},
     "output_type": "execute_result"
    }
   ],
   "source": [
    "a"
   ]
  },
  {
   "cell_type": "code",
   "execution_count": 47,
   "id": "a2d9fb60",
   "metadata": {},
   "outputs": [],
   "source": [
    "a['Lecrec'] = 16"
   ]
  },
  {
   "cell_type": "code",
   "execution_count": 48,
   "id": "980e2447",
   "metadata": {},
   "outputs": [
    {
     "data": {
      "text/plain": [
       "{'Marc': 93, 'Bottas': 77, 'Brad': 33, 'Hamilton': 44, 'Lecrec': 16}"
      ]
     },
     "execution_count": 48,
     "metadata": {},
     "output_type": "execute_result"
    }
   ],
   "source": [
    "a"
   ]
  },
  {
   "cell_type": "code",
   "execution_count": 49,
   "id": "f1d0f322",
   "metadata": {},
   "outputs": [
    {
     "data": {
      "text/plain": [
       "dict_keys(['Marc', 'Bottas', 'Brad', 'Hamilton', 'Lecrec'])"
      ]
     },
     "execution_count": 49,
     "metadata": {},
     "output_type": "execute_result"
    }
   ],
   "source": [
    "a.keys()"
   ]
  },
  {
   "cell_type": "code",
   "execution_count": 50,
   "id": "1172a512",
   "metadata": {},
   "outputs": [
    {
     "data": {
      "text/plain": [
       "dict_values([93, 77, 33, 44, 16])"
      ]
     },
     "execution_count": 50,
     "metadata": {},
     "output_type": "execute_result"
    }
   ],
   "source": [
    "a.values()"
   ]
  },
  {
   "cell_type": "code",
   "execution_count": 51,
   "id": "bf9b48cb",
   "metadata": {},
   "outputs": [],
   "source": [
    "nilai = {\n",
    "    \"Anggita\": 80,\n",
    "    \"Baim\": 75,\n",
    "    \"Chandra\": 80,\n",
    "    \"Dhea\": 95\n",
    "}"
   ]
  },
  {
   "cell_type": "code",
   "execution_count": 52,
   "id": "026e56a6",
   "metadata": {},
   "outputs": [
    {
     "data": {
      "text/plain": [
       "{'Anggita': 80, 'Baim': 75, 'Chandra': 80, 'Dhea': 95}"
      ]
     },
     "execution_count": 52,
     "metadata": {},
     "output_type": "execute_result"
    }
   ],
   "source": [
    "nilai"
   ]
  },
  {
   "cell_type": "code",
   "execution_count": 53,
   "id": "25d28a5b",
   "metadata": {},
   "outputs": [
    {
     "data": {
      "text/plain": [
       "80"
      ]
     },
     "execution_count": 53,
     "metadata": {},
     "output_type": "execute_result"
    }
   ],
   "source": [
    "nilai[\"Anggita\"]"
   ]
  },
  {
   "cell_type": "code",
   "execution_count": 54,
   "id": "a61a2770",
   "metadata": {},
   "outputs": [],
   "source": [
    "nilai[\"Baim\"] = 80"
   ]
  },
  {
   "cell_type": "code",
   "execution_count": 55,
   "id": "123cac50",
   "metadata": {},
   "outputs": [
    {
     "data": {
      "text/plain": [
       "{'Anggita': 80, 'Baim': 80, 'Chandra': 80, 'Dhea': 95}"
      ]
     },
     "execution_count": 55,
     "metadata": {},
     "output_type": "execute_result"
    }
   ],
   "source": [
    "nilai"
   ]
  },
  {
   "cell_type": "markdown",
   "id": "ecc2302d",
   "metadata": {},
   "source": [
    "# Function "
   ]
  },
  {
   "cell_type": "code",
   "execution_count": 56,
   "id": "f3b50e9b",
   "metadata": {},
   "outputs": [],
   "source": [
    "def jumlah(a,b):\n",
    "    return a + b"
   ]
  },
  {
   "cell_type": "code",
   "execution_count": 58,
   "id": "15f3e6fc",
   "metadata": {},
   "outputs": [
    {
     "data": {
      "text/plain": [
       "102"
      ]
     },
     "execution_count": 58,
     "metadata": {},
     "output_type": "execute_result"
    }
   ],
   "source": [
    "jumlah(100,2)"
   ]
  },
  {
   "cell_type": "markdown",
   "id": "0d1ea161",
   "metadata": {},
   "source": [
    "# Conditionals\n"
   ]
  },
  {
   "cell_type": "code",
   "execution_count": 61,
   "id": "85c53d9e",
   "metadata": {},
   "outputs": [],
   "source": [
    "score = 60"
   ]
  },
  {
   "cell_type": "code",
   "execution_count": 62,
   "id": "88f509cc",
   "metadata": {},
   "outputs": [
    {
     "name": "stdout",
     "output_type": "stream",
     "text": [
      "Nilai= B\n"
     ]
    }
   ],
   "source": [
    "if 0 <= score < 60:\n",
    "    print(\"Nilai= C\")\n",
    "elif 60 <= score < 80:\n",
    "    print(\"Nilai= B\")\n",
    "elif 80 <= score < 100:\n",
    "    print(\"Nilai= A\")\n",
    "else:\n",
    "    print(\"Nilai salah!\")"
   ]
  },
  {
   "cell_type": "code",
   "execution_count": 64,
   "id": "170d274a",
   "metadata": {},
   "outputs": [],
   "source": [
    "def konversi_nilai(score):\n",
    "    if 0 <= score < 60:\n",
    "        return(\"Nilai= C\")\n",
    "    elif 60 <= score < 80:\n",
    "        return(\"Nilai= B\")\n",
    "    elif 80 <= score < 100:\n",
    "        return(\"Nilai= A\")\n",
    "    else:\n",
    "        return(\"Nilai salah!\")"
   ]
  },
  {
   "cell_type": "code",
   "execution_count": 65,
   "id": "b8550190",
   "metadata": {},
   "outputs": [
    {
     "data": {
      "text/plain": [
       "'Nilai= B'"
      ]
     },
     "execution_count": 65,
     "metadata": {},
     "output_type": "execute_result"
    }
   ],
   "source": [
    "konversi_nilai(75)"
   ]
  },
  {
   "cell_type": "markdown",
   "id": "15ab57e1",
   "metadata": {},
   "source": [
    "# Iterasi(Menelusuri) "
   ]
  },
  {
   "cell_type": "code",
   "execution_count": 66,
   "id": "87d84964",
   "metadata": {},
   "outputs": [],
   "source": [
    "numbers = [1, 2, 3, 4, 5, 6]"
   ]
  },
  {
   "cell_type": "code",
   "execution_count": 68,
   "id": "b9f1d2e8",
   "metadata": {},
   "outputs": [
    {
     "name": "stdout",
     "output_type": "stream",
     "text": [
      "1\n",
      "2\n",
      "3\n",
      "4\n",
      "5\n",
      "6\n"
     ]
    }
   ],
   "source": [
    "for n in numbers:\n",
    "    print(n)"
   ]
  },
  {
   "cell_type": "code",
   "execution_count": 69,
   "id": "3d7580a4",
   "metadata": {},
   "outputs": [
    {
     "name": "stdout",
     "output_type": "stream",
     "text": [
      "Nilai= A\n",
      "Nilai= A\n",
      "Nilai salah!\n",
      "Nilai= B\n",
      "Nilai= C\n"
     ]
    }
   ],
   "source": [
    "for score in [80, 90, 100, 60, 50]:\n",
    "    print(konversi_nilai(score))"
   ]
  },
  {
   "cell_type": "code",
   "execution_count": 70,
   "id": "f62cb455",
   "metadata": {},
   "outputs": [
    {
     "name": "stdout",
     "output_type": "stream",
     "text": [
      "1\n",
      "8\n",
      "27\n",
      "64\n",
      "125\n",
      "216\n"
     ]
    }
   ],
   "source": [
    "for number in numbers:\n",
    "    print(number**3)"
   ]
  },
  {
   "cell_type": "code",
   "execution_count": 71,
   "id": "c3428dfe",
   "metadata": {},
   "outputs": [],
   "source": [
    "animals = [\"Dog\", 'Fish', \"Elephant\", \"Dolpin\", \"Deer\"]"
   ]
  },
  {
   "cell_type": "code",
   "execution_count": 72,
   "id": "8583ae37",
   "metadata": {},
   "outputs": [
    {
     "data": {
      "text/plain": [
       "['Dog', 'Fish', 'Elephant', 'Dolpin', 'Deer']"
      ]
     },
     "execution_count": 72,
     "metadata": {},
     "output_type": "execute_result"
    }
   ],
   "source": [
    "animals"
   ]
  },
  {
   "cell_type": "code",
   "execution_count": 73,
   "id": "f9ae5c13",
   "metadata": {},
   "outputs": [
    {
     "name": "stdout",
     "output_type": "stream",
     "text": [
      "Dog\n",
      "Fish\n",
      "Elephant\n",
      "Dolpin\n",
      "Deer\n"
     ]
    }
   ],
   "source": [
    "for animal in animals:\n",
    "    print(animal)"
   ]
  },
  {
   "cell_type": "code",
   "execution_count": 77,
   "id": "b8604609",
   "metadata": {},
   "outputs": [
    {
     "name": "stdout",
     "output_type": "stream",
     "text": [
      "DOG\n",
      "FISH\n",
      "ELEPHANT\n",
      "DOLPIN\n",
      "DEER\n"
     ]
    }
   ],
   "source": [
    "for animal in animals:\n",
    "    print(animal.upper())"
   ]
  },
  {
   "cell_type": "code",
   "execution_count": 79,
   "id": "2de992a9",
   "metadata": {},
   "outputs": [
    {
     "name": "stdout",
     "output_type": "stream",
     "text": [
      "2\n",
      "4\n"
     ]
    }
   ],
   "source": [
    "for i in range(2,5,2):\n",
    "    print(i)"
   ]
  },
  {
   "cell_type": "code",
   "execution_count": 80,
   "id": "f5e3737e",
   "metadata": {},
   "outputs": [
    {
     "data": {
      "text/plain": [
       "{'Marc': 93, 'Bottas': 77, 'Brad': 33, 'Hamilton': 44, 'Lecrec': 16}"
      ]
     },
     "execution_count": 80,
     "metadata": {},
     "output_type": "execute_result"
    }
   ],
   "source": [
    "a"
   ]
  },
  {
   "cell_type": "code",
   "execution_count": 81,
   "id": "43a77985",
   "metadata": {},
   "outputs": [
    {
     "data": {
      "text/plain": [
       "dict_keys(['Marc', 'Bottas', 'Brad', 'Hamilton', 'Lecrec'])"
      ]
     },
     "execution_count": 81,
     "metadata": {},
     "output_type": "execute_result"
    }
   ],
   "source": [
    "a.keys()"
   ]
  },
  {
   "cell_type": "code",
   "execution_count": 82,
   "id": "2ae8aeb4",
   "metadata": {},
   "outputs": [
    {
     "name": "stdout",
     "output_type": "stream",
     "text": [
      "Nomor kendaraan dari Marc adalah 93\n",
      "Nomor kendaraan dari Bottas adalah 77\n",
      "Nomor kendaraan dari Brad adalah 33\n",
      "Nomor kendaraan dari Hamilton adalah 44\n",
      "Nomor kendaraan dari Lecrec adalah 16\n"
     ]
    }
   ],
   "source": [
    "for key in a.keys():\n",
    "    print(\"Nomor kendaraan dari\", key, \"adalah\", a[key])"
   ]
  },
  {
   "cell_type": "code",
   "execution_count": 83,
   "id": "b304a66e",
   "metadata": {},
   "outputs": [
    {
     "name": "stdout",
     "output_type": "stream",
     "text": [
      "Nomor kendaraan dari, Marc, adalah, 93\n",
      "Nomor kendaraan dari, Bottas, adalah, 77\n",
      "Nomor kendaraan dari, Brad, adalah, 33\n",
      "Nomor kendaraan dari, Hamilton, adalah, 44\n",
      "Nomor kendaraan dari, Lecrec, adalah, 16\n"
     ]
    }
   ],
   "source": [
    "for key in a.keys():\n",
    "    print(f\"Nomor kendaraan dari, {key}, adalah, {a[key]}\") #beda formatnya aja"
   ]
  },
  {
   "cell_type": "code",
   "execution_count": 85,
   "id": "550403eb",
   "metadata": {},
   "outputs": [],
   "source": [
    "c = []\n",
    "for i in range(5):\n",
    "    c.append(i**2)"
   ]
  },
  {
   "cell_type": "code",
   "execution_count": 86,
   "id": "46dc14b2",
   "metadata": {},
   "outputs": [
    {
     "data": {
      "text/plain": [
       "[0, 1, 4, 9, 16]"
      ]
     },
     "execution_count": 86,
     "metadata": {},
     "output_type": "execute_result"
    }
   ],
   "source": [
    "c"
   ]
  },
  {
   "cell_type": "markdown",
   "id": "9054f02f",
   "metadata": {},
   "source": [
    "# Python Comprehension "
   ]
  },
  {
   "cell_type": "code",
   "execution_count": 87,
   "id": "0bfd774f",
   "metadata": {},
   "outputs": [],
   "source": [
    "a = [i**2 for i in range (5)]"
   ]
  },
  {
   "cell_type": "code",
   "execution_count": 88,
   "id": "340ad5fb",
   "metadata": {},
   "outputs": [
    {
     "data": {
      "text/plain": [
       "[0, 1, 4, 9, 16]"
      ]
     },
     "execution_count": 88,
     "metadata": {},
     "output_type": "execute_result"
    }
   ],
   "source": [
    "a"
   ]
  },
  {
   "cell_type": "code",
   "execution_count": 89,
   "id": "cf66cd6a",
   "metadata": {},
   "outputs": [
    {
     "name": "stdout",
     "output_type": "stream",
     "text": [
      "{0: 0, 1: 1, 2: 4, 3: 9, 4: 16}\n"
     ]
    }
   ],
   "source": [
    "a = {i: i**2 for i in range(5)}\n",
    "print(a)"
   ]
  },
  {
   "cell_type": "code",
   "execution_count": 90,
   "id": "acd8324c",
   "metadata": {},
   "outputs": [
    {
     "data": {
      "text/plain": [
       "{1, 2, 3, 4, 5, 6, 23}"
      ]
     },
     "execution_count": 90,
     "metadata": {},
     "output_type": "execute_result"
    }
   ],
   "source": [
    "#set\n",
    "{1 ,2,2, 1,3,4,5,6,6,5,23}"
   ]
  },
  {
   "cell_type": "code",
   "execution_count": 92,
   "id": "b321e49d",
   "metadata": {},
   "outputs": [
    {
     "data": {
      "text/plain": [
       "['Nilai= C', 'Nilai= A', 'Nilai= B', 'Nilai= B', 'Nilai salah!']"
      ]
     },
     "execution_count": 92,
     "metadata": {},
     "output_type": "execute_result"
    }
   ],
   "source": [
    "nilai = [konversi_nilai(score) for score in [2,90,75,60,100]]\n",
    "nilai"
   ]
  }
 ],
 "metadata": {
  "kernelspec": {
   "display_name": "Python 3 (ipykernel)",
   "language": "python",
   "name": "python3"
  },
  "language_info": {
   "codemirror_mode": {
    "name": "ipython",
    "version": 3
   },
   "file_extension": ".py",
   "mimetype": "text/x-python",
   "name": "python",
   "nbconvert_exporter": "python",
   "pygments_lexer": "ipython3",
   "version": "3.10.9"
  }
 },
 "nbformat": 4,
 "nbformat_minor": 5
}
